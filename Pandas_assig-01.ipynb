{
 "cells": [
  {
   "cell_type": "markdown",
   "id": "bedd93a4-c54d-4dd9-b79b-7484d0b19064",
   "metadata": {},
   "source": [
    "Q1. Create a Pandas Series that contains the following data: 4, 8, 15, 16, 23, and 42. Then, print the series."
   ]
  },
  {
   "cell_type": "code",
   "execution_count": 3,
   "id": "4d33e356-ea23-42d3-9fa7-3dcbdd395986",
   "metadata": {},
   "outputs": [
    {
     "name": "stdout",
     "output_type": "stream",
     "text": [
      "0     4\n",
      "1     8\n",
      "2    15\n",
      "3    16\n",
      "4    23\n",
      "5    42\n",
      "dtype: int64\n"
     ]
    }
   ],
   "source": [
    "import pandas as pd\n",
    "\n",
    "lst = [4,8,15,16,23,42]\n",
    "ser = pd.Series(lst)\n",
    "print(ser)"
   ]
  },
  {
   "cell_type": "markdown",
   "id": "2a3131ed-eda8-466c-9650-310b09213d2d",
   "metadata": {},
   "source": [
    "Q2. Create a variable of list type containing 10 elements in it, and apply pandas.Series function on the\n",
    "variable print it."
   ]
  },
  {
   "cell_type": "code",
   "execution_count": 4,
   "id": "d0d3ddf2-9227-4ec4-9fa6-a19606b07680",
   "metadata": {},
   "outputs": [
    {
     "name": "stdout",
     "output_type": "stream",
     "text": [
      "0     10\n",
      "1     20\n",
      "2     30\n",
      "3     40\n",
      "4     50\n",
      "5     60\n",
      "6     70\n",
      "7     80\n",
      "8     90\n",
      "9    100\n",
      "dtype: int64\n"
     ]
    }
   ],
   "source": [
    "import pandas as pd\n",
    "\n",
    "my_list = [10,20,30,40,50,60,70,80,90,100]\n",
    "res = pd.Series(my_list)\n",
    "print(res)"
   ]
  },
  {
   "cell_type": "markdown",
   "id": "7b54a386-f6c0-46fc-924d-657300ea5de7",
   "metadata": {},
   "source": [
    "Q3. Create a Pandas DataFrame that contains the following data:\n",
    "\n",
    "Then, print the DataFrame."
   ]
  },
  {
   "cell_type": "code",
   "execution_count": 7,
   "id": "4ac374b8-e952-4804-a450-2c0e987453f1",
   "metadata": {},
   "outputs": [
    {
     "name": "stdout",
     "output_type": "stream",
     "text": [
      "     name  age  Gender\n",
      "0   Alice   25  female\n",
      "1     Bob   30    male\n",
      "2  Claire   27  female\n"
     ]
    }
   ],
   "source": [
    "import pandas as pd\n",
    "\n",
    "data = {'name' : ['Alice', 'Bob', 'Claire'],\n",
    "        'age' : [25,30,27],\n",
    "        'Gender' : ['female', 'male', 'female']}\n",
    "\n",
    "df = pd.DataFrame(data)\n",
    "print(df)"
   ]
  },
  {
   "cell_type": "markdown",
   "id": "43ee0cf6-a16d-4895-8960-d51a019dd717",
   "metadata": {},
   "source": [
    "Q4. What is ‘DataFrame’ in pandas and how is it different from pandas.series? Explain with an example."
   ]
  },
  {
   "cell_type": "markdown",
   "id": "7b1584a1-1a9a-4c35-9dba-6467cc853476",
   "metadata": {},
   "source": [
    "the main difference between a DataFrame and a Series is that a DataFrame is a two-dimensional data structure with multiple columns, while a Series is a one-dimensional data structure with a single column. The DataFrame allows you to work with and manipulate tabular data, while the Series is useful for working with a single variable or column of data."
   ]
  },
  {
   "cell_type": "code",
   "execution_count": 10,
   "id": "e81385f2-b14f-4493-a463-61d938c580db",
   "metadata": {},
   "outputs": [
    {
     "name": "stdout",
     "output_type": "stream",
     "text": [
      "Dataframe\n",
      "    Name  Age     Town\n",
      "0  Ankit   19  Chhapra\n",
      "1  Radha   20    Patna\n",
      "2   Sita   18   Ranchi\n",
      "\n",
      "Series\n",
      "0    1\n",
      "1    2\n",
      "2    3\n",
      "3    4\n",
      "4    5\n",
      "5    6\n",
      "6    7\n",
      "7    8\n",
      "8    9\n",
      "dtype: int64\n"
     ]
    }
   ],
   "source": [
    "# Example\n",
    "import pandas as pd\n",
    "\n",
    "data = {\n",
    "    'Name' : ['Ankit', 'Radha', 'Sita'],\n",
    "    'Age' : [19, 20, 18],\n",
    "    'Town' : ['Chhapra', 'Patna', 'Ranchi'],\n",
    "}\n",
    "print(\"Dataframe\")\n",
    "df = pd.DataFrame(data)\n",
    "print(df)\n",
    "\n",
    "ser_data = [1, 2, 3, 4, 5, 6, 7, 8, 9]\n",
    "print(\"\\nSeries\")\n",
    "ser = pd.Series(ser_data)\n",
    "print(ser)"
   ]
  },
  {
   "cell_type": "markdown",
   "id": "c4be5689-ed1a-43d3-8ac5-60d9015a8165",
   "metadata": {},
   "source": [
    "Q5. What are some common functions you can use to manipulate data in a Pandas DataFrame? Can\n",
    "you give an example of when you might use one of these functions?"
   ]
  },
  {
   "cell_type": "code",
   "execution_count": 11,
   "id": "367da2c9-fb9d-4505-b006-e4c48bd05daf",
   "metadata": {},
   "outputs": [],
   "source": [
    "# head()\n",
    "# tail()\n",
    "# info()\n",
    "# describe()\n",
    "# columns\n",
    "# sort_values"
   ]
  },
  {
   "cell_type": "code",
   "execution_count": 13,
   "id": "ad652f00-af9f-401d-abd7-3a9ea51d7ec2",
   "metadata": {},
   "outputs": [
    {
     "name": "stdout",
     "output_type": "stream",
     "text": [
      "     name  age  Gender\n",
      "0   Alice   25  female\n",
      "1     Bob   30    male\n",
      "2  Claire   27  female\n",
      "\n",
      "\n",
      "Index(['name', 'age', 'Gender'], dtype='object')\n",
      "\n",
      "\n",
      "    name  age  Gender\n",
      "0  Alice   25  female\n",
      "1    Bob   30    male\n",
      "\n",
      "\n",
      "     name  age  Gender\n",
      "1     Bob   30    male\n",
      "2  Claire   27  female\n",
      "\n",
      "\n",
      "     name  age  Gender\n",
      "0   Alice   25  female\n",
      "2  Claire   27  female\n",
      "1     Bob   30    male\n"
     ]
    }
   ],
   "source": [
    "import pandas as pd\n",
    "\n",
    "data = {'name' : ['Alice', 'Bob', 'Claire'],\n",
    "        'age' : [25,30,27],\n",
    "        'Gender' : ['female', 'male', 'female']}\n",
    "\n",
    "df = pd.DataFrame(data)\n",
    "print(df)\n",
    "res1 = df.columns\n",
    "print(\"\\n\")\n",
    "print(res1)\n",
    "\n",
    "res2 = df.head(2)\n",
    "print(\"\\n\")\n",
    "print(res2)\n",
    "\n",
    "res3 = df.tail(2)\n",
    "print(\"\\n\")\n",
    "print(res3)\n",
    "\n",
    "res4 = df.sort_values(by = 'age', ascending = True)\n",
    "print(\"\\n\")\n",
    "print(res4)"
   ]
  },
  {
   "cell_type": "markdown",
   "id": "b00f0a08-08a4-4ae4-8ace-b5effc04a008",
   "metadata": {},
   "source": [
    "Q6. Which of the following is mutable in nature Series, DataFrame, Panel?"
   ]
  },
  {
   "cell_type": "code",
   "execution_count": 14,
   "id": "f3d0ae57-b6e4-4351-8576-8dd5d2062bc4",
   "metadata": {},
   "outputs": [],
   "source": [
    "# In pandas, both Series and DataFrame are mutable in nature, while Panel is not."
   ]
  },
  {
   "cell_type": "markdown",
   "id": "d25fdd7a-0f3e-4fd2-a4bc-4a2e7705d602",
   "metadata": {},
   "source": [
    "Q7. Create a DataFrame using multiple Series. Explain with an example."
   ]
  },
  {
   "cell_type": "code",
   "execution_count": null,
   "id": "55a52a93-8dd1-467c-929c-5799dd391c7c",
   "metadata": {},
   "outputs": [],
   "source": [
    "import pandas as pd\n",
    "\n",
    "name_series = pd.Series([\"Ankit\", \"Ram\", \"Sita\", \"Krishna\", \"Radha\"])\n",
    "age_series = pd.Series([19, 20, 25, 23, 24])\n",
    "town_series = pd.Series([\"Delhi\", \"Lahore\", \"Nepal\", \"Mthura\", \"Gokul\"])\n",
    "\n",
    "data = {\n",
    "    'name' : name_series,\n",
    "    'age' : age_series,\n",
    "    'town' : town_series\n",
    "}\n",
    "\n",
    "df = pd.DataFra"
   ]
  }
 ],
 "metadata": {
  "kernelspec": {
   "display_name": "Python 3 (ipykernel)",
   "language": "python",
   "name": "python3"
  },
  "language_info": {
   "codemirror_mode": {
    "name": "ipython",
    "version": 3
   },
   "file_extension": ".py",
   "mimetype": "text/x-python",
   "name": "python",
   "nbconvert_exporter": "python",
   "pygments_lexer": "ipython3",
   "version": "3.10.8"
  }
 },
 "nbformat": 4,
 "nbformat_minor": 5
}
